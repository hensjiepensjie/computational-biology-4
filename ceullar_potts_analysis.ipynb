{
 "cells": [
  {
   "cell_type": "code",
   "execution_count": 3,
   "metadata": {},
   "outputs": [],
   "source": [
    "import numpy as np\n",
    "import matplotlib.pyplot as plt\n",
    "from numba import njit, prange\n",
    "import matplotlib.patches as patches\n",
    "import scipy.ndimage\n",
    "\n",
    "%matplotlib inline\n",
    "\n",
    "import glob"
   ]
  },
  {
   "cell_type": "code",
   "execution_count": 4,
   "metadata": {},
   "outputs": [],
   "source": [
    "def plot_potts_model(grid, id_to_type, H):\n",
    "    \n",
    "    fig = plt.figure(facecolor='w', figsize=(12,4), dpi=80)\n",
    " \n",
    "    ax = plt.subplot2grid((1, 3), (0, 0), colspan=2)\n",
    "    ax.plot( H , 'brown')\n",
    "    ax.grid(b=True, which='major', c='k', alpha=0.2)\n",
    "    ax.set_xlabel('n')\n",
    "    ax.set_ylabel('H')\n",
    "    #ax.set_title('Magnetization modulus for J = %d' % J)\n",
    "    \n",
    "    ax = plt.subplot2grid((1, 3), (0, 2))\n",
    "    #ax.matshow(id_to_type[grid[1:-1, 1:-1]], cmap = 'hot')\n",
    "    \n",
    "    \n",
    "    highres_bord = scipy.ndimage.zoom(grid[1:-1, 1:-1], 20, order=0, mode='nearest') \n",
    "    highres_type = scipy.ndimage.zoom(id_to_type[grid[1:-1, 1:-1]], 20, order=0, mode= 'nearest')\n",
    "    \n",
    "    ax.imshow(highres_type, cmap = 'hot')\n",
    "    ax.contour(highres_bord, levels = [i for i in range(n_cell_id + 1)], colors = 'blue', linewidths = .2)\n",
    "\n",
    "    ax.set_title('n = %i' % n_steps)\n",
    "    ax.axis('off')\n",
    "    \n",
    "    plt.tight_layout()\n",
    "    plt.show()"
   ]
  },
  {
   "cell_type": "code",
   "execution_count": 7,
   "metadata": {},
   "outputs": [
    {
     "data": {
      "text/plain": [
       "100001"
      ]
     },
     "execution_count": 7,
     "metadata": {},
     "output_type": "execute_result"
    }
   ],
   "source": [
    "##### VERSION 1\n",
    "\n",
    "numpy_vars = []\n",
    "for np_name in glob.glob('H_V1*.np[yz]'):\n",
    "    numpy_vars.append(np.load(np_name))\n",
    "    \n",
    "len(numpy_vars[0])"
   ]
  }
 ],
 "metadata": {
  "kernelspec": {
   "display_name": "Python 3",
   "language": "python",
   "name": "python3"
  },
  "language_info": {
   "codemirror_mode": {
    "name": "ipython",
    "version": 3
   },
   "file_extension": ".py",
   "mimetype": "text/x-python",
   "name": "python",
   "nbconvert_exporter": "python",
   "pygments_lexer": "ipython3",
   "version": "3.7.3"
  }
 },
 "nbformat": 4,
 "nbformat_minor": 2
}
