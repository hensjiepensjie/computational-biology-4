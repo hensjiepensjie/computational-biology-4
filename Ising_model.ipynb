{
 "cells": [
  {
   "cell_type": "code",
   "execution_count": 3,
   "metadata": {},
   "outputs": [],
   "source": [
    "import numpy as np\n",
    "import matplotlib.pyplot as plt\n",
    "from numba import njit, prange\n",
    "\n",
    "%matplotlib inline"
   ]
  },
  {
   "cell_type": "code",
   "execution_count": 14,
   "metadata": {},
   "outputs": [],
   "source": [
    "# Declare parameters\n",
    "#---------------------------------------\n",
    "n_steps = 10001\n",
    "nx = 40\n",
    "T = 1\n",
    "k = 0.5\n",
    "\n",
    "# Create initial grid\n",
    "grid_0 = np.zeros((nx + 2, nx + 2))\n",
    "grid_0[1:-1, 1:-1] = np.random.choice([-1, 1], (nx,nx))\n",
    "\n",
    "\n",
    "def Ising_model(J):\n",
    "    # Create grid\n",
    "    grid = grid_0.copy()\n",
    "    \n",
    "    # Create list to store Magnetization modulus\n",
    "    M = np.zeros(n_steps + 1)\n",
    "    \n",
    "    for step in range(n_steps):\n",
    "        \n",
    "        # Randomly choose lattice site \n",
    "        M[step:] += abs(np.sum(grid))\n",
    "        i, j = np.random.randint(1,41, 2)\n",
    "\n",
    "        # Hamiltonian\n",
    "        H = J*(grid[i - 1, j] + grid[i + 1, j] + grid[i, j - 1] + grid[i, j + 1])\n",
    "        \n",
    "        # Probability\n",
    "        P = np.exp(-H*2*grid[i, j])\n",
    "\n",
    "        # Update grid\n",
    "        if P > np.random.sample():\n",
    "            grid[i, j] = -grid[i, j]\n",
    "        \n",
    "    # Create figures        \n",
    "    fig = plt.figure(facecolor='w', figsize=(12,4), dpi=80)\n",
    " \n",
    "    ax = plt.subplot2grid((1, 3), (0, 0), colspan=2)\n",
    "    ax.plot( M/(np.arange(1,n_steps+2)*(nx*nx)) , 'brown')\n",
    "    ax.grid(b=True, which='major', c='k', alpha=0.2)\n",
    "    ax.set_xlabel('n')\n",
    "    ax.set_ylabel('<|M|>')\n",
    "    ax.set_title('Magnetization modulus for J = %d' % J)\n",
    "    \n",
    "    ax = plt.subplot2grid((1, 3), (0, 2))\n",
    "    ax.matshow(grid[1:-1, 1:-1], cmap = 'hot')\n",
    "    ax.set_title('n = %i' % n_steps)\n",
    "    ax.axis('off')\n",
    "    \n",
    "    plt.tight_layout()\n",
    "    plt.show()\n",
    "    \n",
    "    \n",
    "k = 1\n",
    "n_cell_id = 5\n",
    "n_types = 3\n",
    "N = 8\n",
    "n_steps = 10000\n",
    "J = np.zeros((n_types + 1, n_types + 1))\n",
    "lamb = 0.4 \n",
    "At = [0,16,19,12]\n",
    "\n",
    "# THIS SHOULD BE RANDOMIZED!!\n",
    "\n",
    "id_to_type = np.array([0,2,1,3,2,1])\n",
    "grid_cell_0 = np.zeros((N + 2, N + 2), dtype=int)     \n",
    "grid_cell_0[1:3,1:4] = 1\n",
    "grid_cell_0[1:4, 4:9] = 2\n",
    "grid_cell_0[3:9, 1:4] = 3\n",
    "grid_cell_0[4:9, 4:6] = 4\n",
    "grid_cell_0[4:9, 6:9] = 5\n",
    "#grid_cell_0[]\n",
    "\n",
    "J[0,0:n_types] = 0\n",
    "J[1,0] = J[0,1]\n",
    "J[1,1] = 1\n",
    "J[1,2] = 0.5\n",
    "J[1,3] = 0.4\n",
    "J[2,0] = J[0,2]\n",
    "J[2,1] = J[1,2]\n",
    "J[2,2] = 1\n",
    "J[2,3] = 0.8\n",
    "J[3,0] = J[0,3]\n",
    "J[3,1] = J[1,3]\n",
    "J[3,2] = J[2,3]\n",
    "J[3,3] = 1\n",
    "\n",
    "def cellular_potts_model(J,At, lamb):\n",
    "    T = 700\n",
    "    grid = grid_cell_0.copy()\n",
    "    plt.figure()\n",
    "    plt.imshow(grid)\n",
    "    H = np.zeros(n_steps + 1)\n",
    "    H_change = get_hamiltonian(J,At,lamb, grid)\n",
    "    print(H_change)        \n",
    "    for step in range(n_steps):\n",
    "        H[step:] += H_change\n",
    "        i,j = np.random.randint(1,N+1,2)\n",
    "        new_id = grid[i + np.random.randint(-1,1)][j + np.random.randint(-1,1)]\n",
    "        temp_grid = grid.copy()\n",
    "        temp_grid[i][j] = new_id\n",
    "        H_pos = get_hamiltonian(J, At, lamb, temp_grid)\n",
    "        H_change = H_pos - H[step]\n",
    "        \n",
    "        P = np.exp(-H_change/(k *T))\n",
    "        if P > np.random.uniform():\n",
    "            grid[i][j] = new_id\n",
    "        else:\n",
    "            H_change = 0\n",
    "        T = .9 * T\n",
    "        \n",
    "        if step % 1000 == 0:\n",
    "            plt.figure()\n",
    "            plt.imshow(grid)\n",
    "            \n",
    "    fig = plt.figure(facecolor='w', figsize=(12,4), dpi=80)\n",
    " \n",
    "    ax = plt.subplot2grid((1, 3), (0, 0), colspan=2)\n",
    "    ax.plot( H , 'brown')\n",
    "    ax.grid(b=True, which='major', c='k', alpha=0.2)\n",
    "    ax.set_xlabel('n')\n",
    "    ax.set_ylabel('H')\n",
    "    #ax.set_title('Magnetization modulus for J = %d' % J)\n",
    "    \n",
    "    ax = plt.subplot2grid((1, 3), (0, 2))\n",
    "    ax.matshow(grid[1:-1, 1:-1], cmap = 'hot')\n",
    "    ax.set_title('n = %i' % n_steps)\n",
    "    ax.axis('off')\n",
    "    \n",
    "    plt.tight_layout()\n",
    "    plt.show()\n",
    "        \n",
    "        \n",
    "    \n",
    "def get_hamiltonian(J, At, lamb, grid):\n",
    "    H_vol = 0\n",
    "    for i in range(1,n_cell_id + 1):\n",
    "        a = np.count_nonzero(grid == i)\n",
    "        H_vol += (a - At[id_to_type[i]])**2\n",
    "    H_vol *= lamb\n",
    "    H_bond = get_H_bond(J, grid, id_to_type)\n",
    "    \n",
    "    \n",
    "    return H_vol + H_bond\n",
    "\n",
    "#@njit(parallel = True)\n",
    "def get_H_bond(J, grid, id_to_type):\n",
    "    H_bond = 0\n",
    "    for i in range(1, N + 1):\n",
    "        for j in range(1, N+1):\n",
    "            sigm = grid[i][j]\n",
    "            type_s =  id_to_type[sigm]\n",
    "            for k in [-1,0,1]:\n",
    "                for l in [-1,0,1]:\n",
    "                    sigm_neighbour = grid[i + k][j + l]\n",
    "                    if not sigm == sigm_neighbour:\n",
    "                        J_add = J[type_s,id_to_type[sigm_neighbour]]\n",
    "                        H_bond += J_add\n",
    "    return H_bond\n",
    "    "
   ]
  },
  {
   "cell_type": "code",
   "execution_count": 15,
   "metadata": {
    "scrolled": true
   },
   "outputs": [
    {
     "name": "stdout",
     "output_type": "stream",
     "text": [
      "190.19999999999993\n"
     ]
    },
    {
     "name": "stderr",
     "output_type": "stream",
     "text": [
      "C:\\Users\\13ing\\Anaconda3\\lib\\site-packages\\ipykernel_launcher.py:106: RuntimeWarning: overflow encountered in double_scalars\n"
     ]
    },
    {
     "data": {
      "image/png": "[encoded data removed]",
      "text/plain": [
       "<Figure size 432x288 with 1 Axes>"
      ]
     },
     "metadata": {
      "needs_background": "light"
     },
     "output_type": "display_data"
    },
    {
     "data": {
      "image/png": "[encoded data removed]",
      "text/plain": [
       "<Figure size 432x288 with 1 Axes>"
      ]
     },
     "metadata": {
      "needs_background": "light"
     },
     "output_type": "display_data"
    },
    {
     "data": {
      "image/png": "[encoded data removed]",
      "text/plain": [
       "<Figure size 432x288 with 1 Axes>"
      ]
     },
     "metadata": {
      "needs_background": "light"
     },
     "output_type": "display_data"
    },
    {
     "data": {
      "image/png": "[encoded data removed]",
      "text/plain": [
       "<Figure size 432x288 with 1 Axes>"
      ]
     },
     "metadata": {
      "needs_background": "light"
     },
     "output_type": "display_data"
    },
    {
     "data": {
      "image/png": "[encoded data removed]",
      "text/plain": [
       "<Figure size 432x288 with 1 Axes>"
      ]
     },
     "metadata": {
      "needs_background": "light"
     },
     "output_type": "display_data"
    },
    {
     "data": {
      "image/png": "[encoded data removed]",
      "text/plain": [
       "<Figure size 432x288 with 1 Axes>"
      ]
     },
     "metadata": {
      "needs_background": "light"
     },
     "output_type": "display_data"
    },
    {
     "data": {
      "image/png": "[encoded data removed]",
      "text/plain": [
       "<Figure size 432x288 with 1 Axes>"
      ]
     },
     "metadata": {
      "needs_background": "light"
     },
     "output_type": "display_data"
    },
    {
     "data": {
      "image/png": "[encoded data removed]",
      "text/plain": [
       "<Figure size 432x288 with 1 Axes>"
      ]
     },
     "metadata": {
      "needs_background": "light"
     },
     "output_type": "display_data"
    },
    {
     "data": {
      "image/png": "[encoded data removed]",
      "text/plain": [
       "<Figure size 432x288 with 1 Axes>"
      ]
     },
     "metadata": {
      "needs_background": "light"
     },
     "output_type": "display_data"
    },
    {
     "data": {
      "image/png": "[encoded data removed]",
      "text/plain": [
       "<Figure size 432x288 with 1 Axes>"
      ]
     },
     "metadata": {
      "needs_background": "light"
     },
     "output_type": "display_data"
    },
    {
     "data": {
      "image/png": "[encoded data removed]",
      "text/plain": [
       "<Figure size 432x288 with 1 Axes>"
      ]
     },
     "metadata": {
      "needs_background": "light"
     },
     "output_type": "display_data"
    },
    {
     "data": {
      "image/png": "[encoded data removed]",
      "text/plain": [
       "<Figure size 960x320 with 2 Axes>"
      ]
     },
     "metadata": {},
     "output_type": "display_data"
    }
   ],
   "source": [
    "cellular_potts_model(J, At, lamb)"
   ]
  },
  {
   "cell_type": "code",
   "execution_count": null,
   "metadata": {
    "collapsed": true
   },
   "outputs": [],
   "source": [
    "for i in [-1, 0, 1]:\n",
    "    Ising_model(i)\n",
    "    \n",
    "print(np.random.sample())"
   ]
  }
 ],
 "metadata": {
  "kernelspec": {
   "display_name": "Python 3",
   "language": "python",
   "name": "python3"
  },
  "language_info": {
   "codemirror_mode": {
    "name": "ipython",
    "version": 3
   },
   "file_extension": ".py",
   "mimetype": "text/x-python",
   "name": "python",
   "nbconvert_exporter": "python",
   "pygments_lexer": "ipython3",
   "version": "3.7.3"
  }
 },
 "nbformat": 4,
 "nbformat_minor": 2
}
