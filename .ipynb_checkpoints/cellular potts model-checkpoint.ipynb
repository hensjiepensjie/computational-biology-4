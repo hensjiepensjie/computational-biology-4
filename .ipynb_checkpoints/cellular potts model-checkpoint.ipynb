{
 "cells": [
  {
   "cell_type": "code",
   "execution_count": 72,
   "metadata": {},
   "outputs": [],
   "source": [
    "import numpy as np\n",
    "import matplotlib.pyplot as plt\n",
    "from numba import njit, prange\n",
    "import matplotlib.patches as patches\n",
    "import scipy.ndimage\n",
    "\n",
    "%matplotlib inline"
   ]
  },
  {
   "cell_type": "code",
   "execution_count": 17,
   "metadata": {},
   "outputs": [],
   "source": [
    "k = 1 # Boltzmann constant\n",
    "n_cell_id = 5 # Number of cells?\n",
    "n_types = 4 # Number of cell types\n",
    "N = 8 # Size of grid without surrounding medium\n",
    "n_steps = 10000 # Number of iterations\n",
    "J = np.zeros((n_types + 1, n_types + 1)) # Cell grid?\n",
    "lamb = 0.4 # something in Hvol, just a constant maybe\n",
    "At = [0,int(N**)] # List where each index is the equilibrium area of a cell type\n",
    "\n",
    "# THIS SHOULD BE RANDOMIZED!!\n",
    "\n",
    "# converts cell ID to cell type; location represents cell ID, value represents cell type\n",
    "# Randomized\n",
    "# Initial list such that each type is included\n",
    "zero_id = np.array([0])\n",
    "init_id = np.arange(1, n_types, dtype='int')\n",
    "rest_id = np.random.randint(1, n_types, size=(n_cell_id-len(init_id)))\n",
    "\n",
    "# Concatenate list and shuffle\n",
    "almost_complete_id = np.concatenate([init_id, rest_id])\n",
    "np.random.shuffle(almost_complete_id)\n",
    "\n",
    "# Finalize list\n",
    "id_to_type = np.concatenate([zero_id, almost_complete_id])\n",
    "#print(id_to_type)\n",
    "\n",
    "# Initial grid\n",
    "def initial_grid(N, n_cell_id, ):\n",
    "    # Cell size rounded down for initial grid\n",
    "    cell_size = int((N**2)/n_cell_id)\n",
    "    # Medium is cell type=0, start with full medium\n",
    "    grid_cell_0 = np.zeros((N + 2, N + 2), dtype=int)\n",
    "    # Create list with all grid points numbered from top to bottom in reading order, without sides\n",
    "    coor_list = list(range(1,N**2+1))\n",
    "    \n",
    "    # Loop through all cell id's\n",
    "    for i in range(1, n_cell_id+1):\n",
    "        # Choose random number as starting point for initial cell to grow\n",
    "        r_coor = np.random.choice(coor_list)\n",
    "        # Convert chosen number to coordinate\n",
    "        if r_coor % N == 0:\n",
    "            chosen_col = N\n",
    "            chosen_row = int(r_coor/N)\n",
    "        else:\n",
    "            chosen_col = r_coor % N\n",
    "            chosen_row = int(r_coor/N) + 1\n",
    "        \n",
    "        # Change chosen point to cell id\n",
    "        grid_cell_0[chosen_row, chosen_col] = i\n",
    "        # Remove as choice\n",
    "        coor_list.remove(r_coor)\n",
    "        \n",
    "        # Grow cell to cell size randomly\n",
    "        for j in range(cell_size-1):\n",
    "            choices = [\"up\", \"down\", \"left\", \"right\"]\n",
    "            # Continue until all choices are tried\n",
    "            # If no choices are left and its not moved, the growth of the cell stops\n",
    "            while choices != []:\n",
    "                move_to = np.random.choice(choices)\n",
    "                # Move up\n",
    "                if move_to == \"up\":\n",
    "                    new_row = chosen_row - 1\n",
    "                    # Change if it doesn't go to a side and its not another cell\n",
    "                    if new_row != 0 and grid_cell_0[new_row, chosen_col] == 0:\n",
    "                        grid_cell_0[new_row, chosen_col] = i\n",
    "                        # Remove as choice\n",
    "                        coor_list.remove(int(r_coor-N))\n",
    "                        # Change to new growth spot\n",
    "                        chosen_row = new_row\n",
    "                        r_coor = r_coor-N\n",
    "                        break\n",
    "                    # Unable to move so remove option \n",
    "                    else:\n",
    "                        choices.remove(\"up\")\n",
    "                        \n",
    "                # Move down\n",
    "                elif move_to == \"down\":\n",
    "                    new_row = chosen_row + 1\n",
    "                    # Change if it doesn't go to a side and its not another cell\n",
    "                    if new_row != N+1 and grid_cell_0[new_row, chosen_col] == 0:\n",
    "                        grid_cell_0[new_row, chosen_col] = i\n",
    "                        # Remove as choice\n",
    "                        coor_list.remove(int(r_coor+N))\n",
    "                        # Change to new growth spot\n",
    "                        chosen_row = new_row\n",
    "                        r_coor = r_coor+N\n",
    "                        break\n",
    "                    # Unable to move so remove option \n",
    "                    else:\n",
    "                        choices.remove(\"down\")\n",
    "                        \n",
    "                # Move down\n",
    "                elif move_to == \"left\":\n",
    "                    new_col = chosen_col - 1\n",
    "                    # Change if it doesn't go to a side and its not another cell\n",
    "                    if new_col != 0 and grid_cell_0[chosen_row, new_col] == 0:\n",
    "                        grid_cell_0[chosen_row, new_col] = i\n",
    "                        # Remove as choice\n",
    "                        coor_list.remove(int(r_coor-1))\n",
    "                        # Change to new growth spot\n",
    "                        chosen_col = new_col\n",
    "                        r_coor = r_coor-1\n",
    "                        break\n",
    "                    # Unable to move so remove option \n",
    "                    else:\n",
    "                        choices.remove(\"left\")\n",
    "                \n",
    "                # Move down\n",
    "                elif move_to == \"right\":\n",
    "                    new_col = chosen_col + 1\n",
    "                    # Change if it doesn't go to a side and its not another cell\n",
    "                    if new_col != N+1 and grid_cell_0[chosen_row, new_col] == 0:\n",
    "                        grid_cell_0[chosen_row, new_col] = i\n",
    "                        # Remove as choice\n",
    "                        coor_list.remove(int(r_coor+1))\n",
    "                        # Change to new growth spot\n",
    "                        chosen_col = new_col\n",
    "                        r_coor = r_coor+1\n",
    "                        break\n",
    "                    # Unable to move so remove option \n",
    "                    else:\n",
    "                        choices.remove(\"right\")\n",
    "                        \n",
    "    return grid_cell_0, At\n",
    "\n",
    "J[0,0:n_types] = 0\n",
    "J[1,0] = J[0,1]\n",
    "J[1,1] = 1\n",
    "J[1,2] = 0.5\n",
    "J[1,3] = 0.4\n",
    "J[2,0] = J[0,2]\n",
    "J[2,1] = J[1,2]\n",
    "J[2,2] = 1\n",
    "J[2,3] = 0.8\n",
    "J[3,0] = J[0,3]\n",
    "J[3,1] = J[1,3]\n",
    "J[3,2] = J[2,3]\n",
    "J[3,3] = 1\n",
    "\n",
    "def cellular_potts_model(J, At, lamb):\n",
    "    T = 700\n",
    "    init_grid = initial_grid()\n",
    "    grid = init_grid.copy()\n",
    "    \n",
    "    plt.figure()\n",
    "    plt.imshow(grid)\n",
    "    plt.title('Initial grid') # Just to indentify the plot in output\n",
    "    \n",
    "    # List to save hamiltonian values each step?\n",
    "    H = np.zeros(n_steps + 1) \n",
    "    # Initial hamiltonian of grid\n",
    "    H_change = get_hamiltonian(J, At, lamb, grid)\n",
    "    print(H_change)        \n",
    "    \n",
    "    for step in range(n_steps):\n",
    "        H[step:] += H_change\n",
    "        # Choose random lattice side\n",
    "        i,j = np.random.randint(1,N+1,2)\n",
    "        # Choose random neighbour (Moore)\n",
    "        new_id = grid[i + np.random.randint(-1,2)][j + np.random.randint(-1,2)]\n",
    "        \n",
    "        # Calculate hamiltonian of grid if lattice side was changed to neighbour\n",
    "        temp_grid = grid.copy()\n",
    "        temp_grid[i][j] = new_id\n",
    "        H_pos = get_hamiltonian(J, At, lamb, temp_grid)\n",
    "        \n",
    "        # Apply metropolis step\n",
    "        H_change = H_pos - H[step]\n",
    "        if H_change <= 0:\n",
    "            grid[i][j] = new_id\n",
    "        else:\n",
    "            P = np.exp(-H_change/(k * T))\n",
    "            if P > np.random.uniform():\n",
    "                grid[i][j] = new_id\n",
    "            else:\n",
    "                H_change = 0\n",
    "            # Lower temperature for simulated annealing\n",
    "            T = .9 * T\n",
    "        \n",
    "        # Show progression of grid each 1000 steps\n",
    "        if step % 1000 == 0:\n",
    "            plt.figure()\n",
    "            plt.imshow(grid)\n",
    "            plt.title('Grid at t=%d' % step) # Just to indentify the plot in output\n",
    "    \n",
    "    # Plot final grid\n",
    "    plot_potts_model(grid, id_to_type, H)\n",
    "        \n",
    "        \n",
    "def get_hamiltonian(J, At, lamb, grid):\n",
    "    H_vol = 0\n",
    "    # Exlude 0 which is the medium\n",
    "    for i in range(1, n_cell_id + 1):\n",
    "        a = np.count_nonzero(grid == i)\n",
    "        H_vol += (a - At[id_to_type[i]])**2\n",
    "    H_vol *= lamb\n",
    "    H_bond = get_H_bond(J, grid, id_to_type)\n",
    "    \n",
    "    return H_vol + H_bond\n",
    "\n",
    "@njit(parallel = True)\n",
    "def get_H_bond(J, grid, id_to_type):\n",
    "    H_bond = np.zeros(N)\n",
    "    for i in prange(1, N + 1):\n",
    "        H_bond_i = 0\n",
    "        for j in range(1, N+1):\n",
    "            sigm = grid[i][j]\n",
    "            type_s =  id_to_type[sigm]\n",
    "            for k in [-1,0,1]:\n",
    "                for l in [-1,0,1]:\n",
    "                    sigm_neighbour = grid[i + k][j + l]\n",
    "                    if not sigm == sigm_neighbour:\n",
    "                        J_add = J[type_s,id_to_type[sigm_neighbour]]\n",
    "                        H_bond_i += J_add\n",
    "        H_bond[i-1] = H_bond_i\n",
    "    \n",
    "    return np.sum(H_bond)\n",
    "\n",
    "def plot_potts_model(grid, id_to_type, H):\n",
    "    \n",
    "    fig = plt.figure(facecolor='w', figsize=(12,4), dpi=80)\n",
    " \n",
    "    ax = plt.subplot2grid((1, 3), (0, 0), colspan=2)\n",
    "    ax.plot( H , 'brown')\n",
    "    ax.grid(b=True, which='major', c='k', alpha=0.2)\n",
    "    ax.set_xlabel('n')\n",
    "    ax.set_ylabel('H')\n",
    "    #ax.set_title('Magnetization modulus for J = %d' % J)\n",
    "    \n",
    "    ax = plt.subplot2grid((1, 3), (0, 2))\n",
    "    ax.matshow(grid[1:-1, 1:-1], cmap = 'hot')\n",
    "    \n",
    "    \n",
    "    highres_bord = scipy.ndimage.zoom(grid[1:-1, 1:-1], 50, order=0, mode='nearest') \n",
    "    highres_type = scipy.ndimage.zoom(id_to_type[grid[1:-1, 1:-1]], 50, order=0, mode= 'nearest')\n",
    "    \n",
    "    ax.imshow(highres_type, cmap = 'hot')\n",
    "    ax.contour(highres_bord, levels = [i for i in range(n_cell_id + 1)], colors = 'black', linewidths = 2)\n",
    "\n",
    "    ax.set_title('n = %i' % n_steps)\n",
    "    ax.axis('off')\n",
    "    \n",
    "    plt.tight_layout()\n",
    "    plt.show()\n",
    "    "
   ]
  },
  {
   "cell_type": "code",
   "execution_count": 18,
   "metadata": {},
   "outputs": [
    {
     "name": "stdout",
     "output_type": "stream",
     "text": [
      "181.2\n"
     ]
    },
    {
     "data": {
      "image/png": "[encoded data removed]",
      "text/plain": [
       "<Figure size 432x288 with 1 Axes>"
      ]
     },
     "metadata": {
      "needs_background": "light"
     },
     "output_type": "display_data"
    },
    {
     "data": {
      "image/png": "[encoded data removed]",
      "text/plain": [
       "<Figure size 432x288 with 1 Axes>"
      ]
     },
     "metadata": {
      "needs_background": "light"
     },
     "output_type": "display_data"
    },
    {
     "data": {
      "image/png": "[encoded data removed]",
      "text/plain": [
       "<Figure size 432x288 with 1 Axes>"
      ]
     },
     "metadata": {
      "needs_background": "light"
     },
     "output_type": "display_data"
    },
    {
     "data": {
      "image/png": "[encoded data removed]",
      "text/plain": [
       "<Figure size 432x288 with 1 Axes>"
      ]
     },
     "metadata": {
      "needs_background": "light"
     },
     "output_type": "display_data"
    },
    {
     "data": {
      "image/png": "[encoded data removed]",
      "text/plain": [
       "<Figure size 432x288 with 1 Axes>"
      ]
     },
     "metadata": {
      "needs_background": "light"
     },
     "output_type": "display_data"
    },
    {
     "data": {
      "image/png": "[encoded data removed]",
      "text/plain": [
       "<Figure size 432x288 with 1 Axes>"
      ]
     },
     "metadata": {
      "needs_background": "light"
     },
     "output_type": "display_data"
    },
    {
     "data": {
      "image/png": "[encoded data removed]",
      "text/plain": [
       "<Figure size 432x288 with 1 Axes>"
      ]
     },
     "metadata": {
      "needs_background": "light"
     },
     "output_type": "display_data"
    },
    {
     "data": {
      "image/png": "[encoded data removed]",
      "text/plain": [
       "<Figure size 432x288 with 1 Axes>"
      ]
     },
     "metadata": {
      "needs_background": "light"
     },
     "output_type": "display_data"
    },
    {
     "data": {
      "image/png": "[encoded data removed]",
      "text/plain": [
       "<Figure size 432x288 with 1 Axes>"
      ]
     },
     "metadata": {
      "needs_background": "light"
     },
     "output_type": "display_data"
    },
    {
     "data": {
      "image/png": "[encoded data removed]",
      "text/plain": [
       "<Figure size 432x288 with 1 Axes>"
      ]
     },
     "metadata": {
      "needs_background": "light"
     },
     "output_type": "display_data"
    },
    {
     "data": {
      "image/png": "[encoded data removed]",
      "text/plain": [
       "<Figure size 432x288 with 1 Axes>"
      ]
     },
     "metadata": {
      "needs_background": "light"
     },
     "output_type": "display_data"
    },
    {
     "data": {
      "image/png": "[encoded data removed]",
      "text/plain": [
       "<Figure size 960x320 with 2 Axes>"
      ]
     },
     "metadata": {},
     "output_type": "display_data"
    }
   ],
   "source": [
    "cellular_potts_model(J, At, lamb)\n"
   ]
  }
 ],
 "metadata": {
  "kernelspec": {
   "display_name": "Python 3",
   "language": "python",
   "name": "python3"
  },
  "language_info": {
   "codemirror_mode": {
    "name": "ipython",
    "version": 3
   },
   "file_extension": ".py",
   "mimetype": "text/x-python",
   "name": "python",
   "nbconvert_exporter": "python",
   "pygments_lexer": "ipython3",
   "version": "3.7.3"
  }
 },
 "nbformat": 4,
 "nbformat_minor": 2
}
